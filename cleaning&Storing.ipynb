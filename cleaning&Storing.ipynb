{
 "cells": [
  {
   "cell_type": "code",
   "execution_count": 60,
   "id": "ec1be4c0-3973-4496-81e7-5afecf3c2f71",
   "metadata": {},
   "outputs": [],
   "source": [
    "import pandas as pd\n",
    "import re"
   ]
  },
  {
   "cell_type": "code",
   "execution_count": 78,
   "id": "ce791a3e-4dc6-4c42-b7ef-0ddb308d7d47",
   "metadata": {},
   "outputs": [
    {
     "data": {
      "text/html": [
       "<div>\n",
       "<style scoped>\n",
       "    .dataframe tbody tr th:only-of-type {\n",
       "        vertical-align: middle;\n",
       "    }\n",
       "\n",
       "    .dataframe tbody tr th {\n",
       "        vertical-align: top;\n",
       "    }\n",
       "\n",
       "    .dataframe thead th {\n",
       "        text-align: right;\n",
       "    }\n",
       "</style>\n",
       "<table border=\"1\" class=\"dataframe\">\n",
       "  <thead>\n",
       "    <tr style=\"text-align: right;\">\n",
       "      <th></th>\n",
       "      <th>Tweet</th>\n",
       "      <th>created_at</th>\n",
       "    </tr>\n",
       "  </thead>\n",
       "  <tbody>\n",
       "    <tr>\n",
       "      <th>0</th>\n",
       "      <td>@cryptogems555 Invest in a currency that is de...</td>\n",
       "      <td>3/14/2025</td>\n",
       "    </tr>\n",
       "    <tr>\n",
       "      <th>1</th>\n",
       "      <td>While having all the hope around chatGPT lets ...</td>\n",
       "      <td>3/14/2025</td>\n",
       "    </tr>\n",
       "    <tr>\n",
       "      <th>2</th>\n",
       "      <td>@IGDEFI1 Join the movement towards a more sust...</td>\n",
       "      <td>3/14/2025</td>\n",
       "    </tr>\n",
       "    <tr>\n",
       "      <th>3</th>\n",
       "      <td>There's a snowstorm out so naturally, I decide...</td>\n",
       "      <td>3/14/2025</td>\n",
       "    </tr>\n",
       "    <tr>\n",
       "      <th>4</th>\n",
       "      <td>@unclebobcrypto @Stablzone Invest in a currenc...</td>\n",
       "      <td>3/14/2025</td>\n",
       "    </tr>\n",
       "  </tbody>\n",
       "</table>\n",
       "</div>"
      ],
      "text/plain": [
       "                                               Tweet created_at\n",
       "0  @cryptogems555 Invest in a currency that is de...  3/14/2025\n",
       "1  While having all the hope around chatGPT lets ...  3/14/2025\n",
       "2  @IGDEFI1 Join the movement towards a more sust...  3/14/2025\n",
       "3  There's a snowstorm out so naturally, I decide...  3/14/2025\n",
       "4  @unclebobcrypto @Stablzone Invest in a currenc...  3/14/2025"
      ]
     },
     "execution_count": 78,
     "metadata": {},
     "output_type": "execute_result"
    }
   ],
   "source": [
    "# Load tweets from the CSV file where we previously stored them\n",
    "df = pd.read_csv(\"ai_tweets.csv\", encoding='ISO-8859-1')\n",
    "df.head()"
   ]
  },
  {
   "cell_type": "code",
   "execution_count": 80,
   "id": "e7ad5c86-3e3f-4b17-9a57-638d28a92e9c",
   "metadata": {},
   "outputs": [
    {
     "data": {
      "text/html": [
       "<div>\n",
       "<style scoped>\n",
       "    .dataframe tbody tr th:only-of-type {\n",
       "        vertical-align: middle;\n",
       "    }\n",
       "\n",
       "    .dataframe tbody tr th {\n",
       "        vertical-align: top;\n",
       "    }\n",
       "\n",
       "    .dataframe thead th {\n",
       "        text-align: right;\n",
       "    }\n",
       "</style>\n",
       "<table border=\"1\" class=\"dataframe\">\n",
       "  <thead>\n",
       "    <tr style=\"text-align: right;\">\n",
       "      <th></th>\n",
       "      <th>Tweet</th>\n",
       "      <th>created_at</th>\n",
       "    </tr>\n",
       "  </thead>\n",
       "  <tbody>\n",
       "    <tr>\n",
       "      <th>0</th>\n",
       "      <td>invest in a currency that is designed to offer...</td>\n",
       "      <td>2025-03-14</td>\n",
       "    </tr>\n",
       "    <tr>\n",
       "      <th>1</th>\n",
       "      <td>while having all the hope around chatgpt lets ...</td>\n",
       "      <td>2025-03-14</td>\n",
       "    </tr>\n",
       "    <tr>\n",
       "      <th>2</th>\n",
       "      <td>join the movement towards a more sustainable a...</td>\n",
       "      <td>2025-03-14</td>\n",
       "    </tr>\n",
       "    <tr>\n",
       "      <th>3</th>\n",
       "      <td>theres a snowstorm out so naturally i decided ...</td>\n",
       "      <td>2025-03-14</td>\n",
       "    </tr>\n",
       "    <tr>\n",
       "      <th>4</th>\n",
       "      <td>invest in a currency that offers a more secure...</td>\n",
       "      <td>2025-03-14</td>\n",
       "    </tr>\n",
       "  </tbody>\n",
       "</table>\n",
       "</div>"
      ],
      "text/plain": [
       "                                               Tweet created_at\n",
       "0  invest in a currency that is designed to offer... 2025-03-14\n",
       "1  while having all the hope around chatgpt lets ... 2025-03-14\n",
       "2  join the movement towards a more sustainable a... 2025-03-14\n",
       "3  theres a snowstorm out so naturally i decided ... 2025-03-14\n",
       "4  invest in a currency that offers a more secure... 2025-03-14"
      ]
     },
     "execution_count": 80,
     "metadata": {},
     "output_type": "execute_result"
    }
   ],
   "source": [
    "#cleaning tweets using regular expression \"regex\"\n",
    "\n",
    "df = df[~df['created_at'].astype(str).str.contains(\"created_at\", na=False)]\n",
    "df['created_at'] = pd.to_datetime(df['created_at'], errors='coerce')\n",
    "df = df[df['created_at'].notna()]\n",
    "\n",
    "df.drop_duplicates(inplace=True)\n",
    "\n",
    "df.dropna(subset=['Tweet', 'created_at'], inplace=True)\n",
    "\n",
    "def clean_text(text):\n",
    "    text = str(text)\n",
    "    text = re.sub(r\"http\\S+\", \"\", text)  # to remove URLs\n",
    "    text = re.sub(r\"@\\w+\", \"\", text)    # remove mentions\n",
    "    text = re.sub(r\"#\\w+\", \"\", text)     #remove hashtags\n",
    "    text = re.sub(r\"[^\\w\\s]\", \"\", text)  # keep only words & whitespace\n",
    "    text = re.sub(r\"\\s+\", \" \", text)     # collapse multiple spaces\n",
    "    return text.strip().lower()          # Trim & lowercase\n",
    "\n",
    "df['cleaned_text'] = df['Tweet'].apply(clean_text)\n",
    "df.drop_duplicates(subset=['cleaned_text'], inplace=True)\n",
    "\n",
    "df['Tweet'] = df['cleaned_text']\n",
    "df.drop(columns=['cleaned_text'], inplace=True)\n",
    "\n",
    "df.head()"
   ]
  },
  {
   "cell_type": "code",
   "execution_count": 82,
   "id": "8e31a3a6-1bdd-4569-80c0-eb6f6340fd01",
   "metadata": {},
   "outputs": [
    {
     "data": {
      "text/plain": [
       "(123746, 2)"
      ]
     },
     "execution_count": 82,
     "metadata": {},
     "output_type": "execute_result"
    }
   ],
   "source": [
    "df.shape"
   ]
  },
  {
   "cell_type": "code",
   "execution_count": 84,
   "id": "dec41340-05bf-42d4-a7dd-f56ff319657e",
   "metadata": {},
   "outputs": [
    {
     "name": "stdout",
     "output_type": "stream",
     "text": [
      "Tweet         0\n",
      "created_at    0\n",
      "dtype: int64\n"
     ]
    }
   ],
   "source": [
    "na_counts = df.isna().sum()\n",
    "print(na_counts)\n"
   ]
  },
  {
   "cell_type": "code",
   "execution_count": 86,
   "id": "ae2d5284-c232-4c7d-83f4-a3a3b285a094",
   "metadata": {},
   "outputs": [
    {
     "data": {
      "text/plain": [
       "0"
      ]
     },
     "execution_count": 86,
     "metadata": {},
     "output_type": "execute_result"
    }
   ],
   "source": [
    "duplicate_counts = df.duplicated().sum()\n",
    "duplicate_counts"
   ]
  },
  {
   "cell_type": "code",
   "execution_count": 98,
   "id": "41f539f9-ac2c-48f1-8686-0080ed42c89b",
   "metadata": {},
   "outputs": [
    {
     "name": "stdout",
     "output_type": "stream",
     "text": [
      "No new tweets to insert\n"
     ]
    }
   ],
   "source": [
    "# Store into MongoDB\n",
    "from pymongo import MongoClient\n",
    "\n",
    "#Connect to MongoDB\n",
    "client = MongoClient('mongodb://localhost:27017/')\n",
    "db = client['ai_tweets_db']\n",
    "collection = db['tweets']\n",
    "\n",
    "#convert DataFrame to list of dicts for mongodb insertion\n",
    "data_dict = df.to_dict(\"records\")\n",
    "\n",
    "#we make sure that there aren't any tweets already existing in MongoDB to avoid duplicates\n",
    "existing_tweets = set(doc['Tweet'] for doc in collection.find({}, {'Tweet': 1}))\n",
    "\n",
    "new_tweets = [doc for doc in data_dict if doc['Tweet'] not in existing_tweets]\n",
    "\n",
    "if new_tweets:\n",
    "    collection.insert_many(new_tweets)\n",
    "    print(f\"{len(new_tweets)} new tweets inserted into MongoDB\")\n",
    "else:\n",
    "    print(\"No new tweets to insert\")"
   ]
  },
  {
   "cell_type": "code",
   "execution_count": 69,
   "id": "09314689-0ec0-4c42-b9ff-410d21916ede",
   "metadata": {},
   "outputs": [
    {
     "name": "stdout",
     "output_type": "stream",
     "text": [
      "num. of docs.: 123746\n"
     ]
    }
   ],
   "source": [
    "# number of tweets in mongodb\n",
    "count = collection.count_documents({})\n",
    "print(f\"num. of docs.: {count}\")"
   ]
  },
  {
   "cell_type": "code",
   "execution_count": 96,
   "id": "d63590d8-8147-4e50-865f-8f08192bd5f2",
   "metadata": {},
   "outputs": [
    {
     "name": "stdout",
     "output_type": "stream",
     "text": [
      "{'_id': ObjectId('680cfd33938747c9e17a5a88'), 'Tweet': 'invest in a currency that is designed to offer greater flexibility and customization for personal financial strategies and goals with this coin', 'created_at': datetime.datetime(2025, 3, 14, 0, 0), 'vader_score': 0.5994, 'sentiment': 'Positive'}\n",
      "{'_id': ObjectId('680cfd33938747c9e17a5a89'), 'Tweet': 'while having all the hope around chatgpt lets not forget these tools in other domains too', 'created_at': datetime.datetime(2025, 3, 14, 0, 0), 'vader_score': 0.5523, 'sentiment': 'Positive'}\n",
      "{'_id': ObjectId('680cfd33938747c9e17a5a8a'), 'Tweet': 'join the movement towards a more sustainable and responsible financial system that prioritizes longterm growth and development 0x73706a7d4c34b3c70a1cd35030b847a0e11403e0', 'created_at': datetime.datetime(2025, 3, 14, 0, 0), 'vader_score': 0.7479, 'sentiment': 'Positive'}\n",
      "{'_id': ObjectId('680cfd33938747c9e17a5a8b'), 'Tweet': 'theres a snowstorm out so naturally i decided to ask about ð', 'created_at': datetime.datetime(2025, 3, 14, 0, 0), 'vader_score': 0.0, 'sentiment': 'Neutral'}\n",
      "{'_id': ObjectId('680cfd33938747c9e17a5a8c'), 'Tweet': 'invest in a currency that offers a more secure private and confidential way to transact online with this coin 0x73706a7d4c34b3c70a1cd35030b847a0e11403e0', 'created_at': datetime.datetime(2025, 3, 14, 0, 0), 'vader_score': 0.4005, 'sentiment': 'Positive'}\n"
     ]
    }
   ],
   "source": [
    "# display first 5 tweets from MongoDB\n",
    "for doc in collection.find().limit(5):\n",
    "    print(doc)"
   ]
  },
  {
   "cell_type": "code",
   "execution_count": null,
   "id": "7a339d04-7453-458a-8582-71e382f88829",
   "metadata": {},
   "outputs": [],
   "source": []
  }
 ],
 "metadata": {
  "kernelspec": {
   "display_name": "Python [conda env:base] *",
   "language": "python",
   "name": "conda-base-py"
  },
  "language_info": {
   "codemirror_mode": {
    "name": "ipython",
    "version": 3
   },
   "file_extension": ".py",
   "mimetype": "text/x-python",
   "name": "python",
   "nbconvert_exporter": "python",
   "pygments_lexer": "ipython3",
   "version": "3.12.7"
  }
 },
 "nbformat": 4,
 "nbformat_minor": 5
}
