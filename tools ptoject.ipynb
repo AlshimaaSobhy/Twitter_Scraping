{
 "cells": [
  {
   "cell_type": "markdown",
   "id": "25064feb",
   "metadata": {},
   "source": [
    "Importing necessary data"
   ]
  },
  {
   "cell_type": "code",
   "execution_count": 138,
   "id": "b9efc811",
   "metadata": {},
   "outputs": [],
   "source": [
    "import tweepy\n",
    "import csv\n",
    "import time\n",
    "import pandas as pd\n",
    "import re\n",
    "from pymongo import MongoClient\n",
    "from textblob import TextBlob\n",
    "from vaderSentiment.vaderSentiment import SentimentIntensityAnalyzer\n",
    "import matplotlib.pyplot as plt\n",
    "from matplotlib.dates import DateFormatter as DF"
   ]
  },
  {
   "cell_type": "markdown",
   "id": "7b4c12fa",
   "metadata": {},
   "source": [
    "Identify keywords related to AI "
   ]
  },
  {
   "cell_type": "code",
   "execution_count": 2,
   "id": "e3bb9c57",
   "metadata": {},
   "outputs": [],
   "source": [
    "ai_keywords = [\n",
    "    \"NLP\", \n",
    "    \"AI\", \n",
    "    \"Artificial Intelligence\", \n",
    "    \"Chatgpt\", \n",
    "    \"Deepseek\", \n",
    "    \"CV\"\n",
    "]"
   ]
  },
  {
   "cell_type": "markdown",
   "id": "9073813f",
   "metadata": {},
   "source": [
    "# Data Extraction"
   ]
  },
  {
   "cell_type": "markdown",
   "id": "bce432ae",
   "metadata": {},
   "source": [
    "Requsting tweets using tweepy"
   ]
  },
  {
   "cell_type": "code",
   "execution_count": 3,
   "id": "dccdd887",
   "metadata": {},
   "outputs": [],
   "source": [
    "bearer_token = r\"AAAAAAAAAAAAAAAAAAAAAHwn0wEAAAAA%2BXtWl8lg1EhNvP3aIdbuvW2WOCc%3Dw8DzG3cOB9diVNKfi5qUvMHTjZ42lzmHvDXnjob4Jbq8vPuVW3\""
   ]
  },
  {
   "cell_type": "code",
   "execution_count": 4,
   "id": "5bf8a502",
   "metadata": {},
   "outputs": [],
   "source": [
    "client = tweepy.Client(bearer_token= bearer_token)"
   ]
  },
  {
   "cell_type": "markdown",
   "id": "32eece61",
   "metadata": {},
   "source": [
    "Reading tweets"
   ]
  },
  {
   "cell_type": "code",
   "execution_count": null,
   "id": "5db869ae",
   "metadata": {},
   "outputs": [
    {
     "name": "stdout",
     "output_type": "stream",
     "text": [
      "Error fetching for NLP :  429 Too Many Requests\n",
      "Too Many Requests\n",
      "Error fetching for AI :  429 Too Many Requests\n",
      "Too Many Requests\n",
      "Error fetching for Artificial Intelligence :  429 Too Many Requests\n",
      "Too Many Requests\n",
      "Error fetching for Chatgpt :  429 Too Many Requests\n",
      "Too Many Requests\n",
      "Error fetching for Deepseek :  429 Too Many Requests\n",
      "Too Many Requests\n",
      "Error fetching for CV :  429 Too Many Requests\n",
      "Too Many Requests\n"
     ]
    }
   ],
   "source": [
    "with open(\"ai_tweets.csv\", 'a', newline='', encoding='utf-8-sig') as file:  # creating csv file\n",
    "    writer= csv.writer(file)\n",
    "    writer.writerow(['Tweet', 'created_at'])\n",
    "    \n",
    "    for keyword in ai_keywords:\n",
    "        try: # Requesting tweets based on keywords (English tweets)\n",
    "            tweets = client.search_recent_tweets(\n",
    "                query = f' \"{keyword}\" lang:en -is:retweet', \n",
    "                max_results = 10,\n",
    "                tweet_fields =['created_at', 'text']  # I requset the text and the date the tweets created at\n",
    "            )\n",
    "            \n",
    "            if tweets.data:  #Store tweets in the csv file\n",
    "                for tweet in tweets.data:\n",
    "                    writer.writerow([tweet.text, tweet.created_at,])\n",
    "            time.sleep(10)\n",
    "            \n",
    "        except Exception as e:\n",
    "            print(f'Error fetching for {keyword} : ', e)"
   ]
  },
  {
   "cell_type": "markdown",
   "id": "12c4cdcc",
   "metadata": {},
   "source": [
    "Reading dataset"
   ]
  },
  {
   "cell_type": "code",
   "execution_count": 94,
   "id": "bee7c6eb",
   "metadata": {},
   "outputs": [
    {
     "name": "stdout",
     "output_type": "stream",
     "text": [
      "Total rows: 151676\n"
     ]
    }
   ],
   "source": [
    "df = pd.read_csv(\"ai_tweets.csv\", encoding='ISO-8859-1')\n",
    "print(f\"Total rows: {len(df)}\")\n"
   ]
  },
  {
   "cell_type": "markdown",
   "id": "d5f14669",
   "metadata": {},
   "source": [
    "-----------------"
   ]
  },
  {
   "cell_type": "markdown",
   "id": "9835e9ea",
   "metadata": {},
   "source": [
    "# Cleaning"
   ]
  },
  {
   "cell_type": "code",
   "execution_count": 95,
   "id": "c52563a9",
   "metadata": {},
   "outputs": [],
   "source": [
    "df = df[~df['created_at'].astype(str).str.contains(\"Time\", na=False)]\n",
    "df['created_at'] = pd.to_datetime(df['created_at'], errors='coerce')\n",
    "df = df[df['created_at'].notna()]\n",
    "\n",
    "df.drop_duplicates(inplace=True)\n",
    "\n",
    "df.dropna(subset=['Tweet', 'created_at'], inplace=True)\n"
   ]
  },
  {
   "cell_type": "code",
   "execution_count": 96,
   "id": "3af7d626",
   "metadata": {},
   "outputs": [],
   "source": [
    "def clean_text(text):\n",
    "    text = str(text)\n",
    "    text = re.sub(r\"http\\S+\", \"\", text)  \n",
    "    text = re.sub(r\"@\\w+\", \"\", text)    \n",
    "    text = re.sub(r\"#\\w+\", \"\", text)     \n",
    "    text = re.sub(r\"[^\\w\\s]\", \"\", text)  \n",
    "    text = re.sub(r\"\\s+\", \" \", text)     \n",
    "    return text.strip().lower()"
   ]
  },
  {
   "cell_type": "code",
   "execution_count": 97,
   "id": "b675bdb1",
   "metadata": {},
   "outputs": [
    {
     "data": {
      "application/vnd.microsoft.datawrangler.viewer.v0+json": {
       "columns": [
        {
         "name": "index",
         "rawType": "int64",
         "type": "integer"
        },
        {
         "name": "Tweet",
         "rawType": "object",
         "type": "string"
        },
        {
         "name": "created_at",
         "rawType": "datetime64[ns]",
         "type": "datetime"
        }
       ],
       "conversionMethod": "pd.DataFrame",
       "ref": "f34aeae0-e24a-43cb-84b7-4425721cbc80",
       "rows": [
        [
         "0",
         "invest in a currency that is designed to offer greater flexibility and customization for personal financial strategies and goals with this coin",
         "2025-03-14 00:00:00"
        ],
        [
         "1",
         "while having all the hope around chatgpt lets not forget these tools in other domains too",
         "2025-03-14 00:00:00"
        ],
        [
         "2",
         "join the movement towards a more sustainable and responsible financial system that prioritizes longterm growth and development 0x73706a7d4c34b3c70a1cd35030b847a0e11403e0",
         "2025-03-14 00:00:00"
        ],
        [
         "3",
         "theres a snowstorm out so naturally i decided to ask about ð",
         "2025-03-14 00:00:00"
        ],
        [
         "4",
         "invest in a currency that offers a more secure private and confidential way to transact online with this coin 0x73706a7d4c34b3c70a1cd35030b847a0e11403e0",
         "2025-03-14 00:00:00"
        ]
       ],
       "shape": {
        "columns": 2,
        "rows": 5
       }
      },
      "text/html": [
       "<div>\n",
       "<style scoped>\n",
       "    .dataframe tbody tr th:only-of-type {\n",
       "        vertical-align: middle;\n",
       "    }\n",
       "\n",
       "    .dataframe tbody tr th {\n",
       "        vertical-align: top;\n",
       "    }\n",
       "\n",
       "    .dataframe thead th {\n",
       "        text-align: right;\n",
       "    }\n",
       "</style>\n",
       "<table border=\"1\" class=\"dataframe\">\n",
       "  <thead>\n",
       "    <tr style=\"text-align: right;\">\n",
       "      <th></th>\n",
       "      <th>Tweet</th>\n",
       "      <th>created_at</th>\n",
       "    </tr>\n",
       "  </thead>\n",
       "  <tbody>\n",
       "    <tr>\n",
       "      <th>0</th>\n",
       "      <td>invest in a currency that is designed to offer...</td>\n",
       "      <td>2025-03-14</td>\n",
       "    </tr>\n",
       "    <tr>\n",
       "      <th>1</th>\n",
       "      <td>while having all the hope around chatgpt lets ...</td>\n",
       "      <td>2025-03-14</td>\n",
       "    </tr>\n",
       "    <tr>\n",
       "      <th>2</th>\n",
       "      <td>join the movement towards a more sustainable a...</td>\n",
       "      <td>2025-03-14</td>\n",
       "    </tr>\n",
       "    <tr>\n",
       "      <th>3</th>\n",
       "      <td>theres a snowstorm out so naturally i decided ...</td>\n",
       "      <td>2025-03-14</td>\n",
       "    </tr>\n",
       "    <tr>\n",
       "      <th>4</th>\n",
       "      <td>invest in a currency that offers a more secure...</td>\n",
       "      <td>2025-03-14</td>\n",
       "    </tr>\n",
       "  </tbody>\n",
       "</table>\n",
       "</div>"
      ],
      "text/plain": [
       "                                               Tweet created_at\n",
       "0  invest in a currency that is designed to offer... 2025-03-14\n",
       "1  while having all the hope around chatgpt lets ... 2025-03-14\n",
       "2  join the movement towards a more sustainable a... 2025-03-14\n",
       "3  theres a snowstorm out so naturally i decided ... 2025-03-14\n",
       "4  invest in a currency that offers a more secure... 2025-03-14"
      ]
     },
     "execution_count": 97,
     "metadata": {},
     "output_type": "execute_result"
    }
   ],
   "source": [
    "df['cleaned_text'] = df['Tweet'].apply(clean_text)\n",
    "df.drop_duplicates(subset=['cleaned_text'], inplace=True)\n",
    "\n",
    "df['Tweet'] = df['cleaned_text']\n",
    "df.drop(columns=['cleaned_text'], inplace=True)\n",
    "\n",
    "df.head()"
   ]
  },
  {
   "cell_type": "code",
   "execution_count": 98,
   "id": "10865c16",
   "metadata": {},
   "outputs": [
    {
     "data": {
      "text/plain": [
       "(123746, 2)"
      ]
     },
     "execution_count": 98,
     "metadata": {},
     "output_type": "execute_result"
    }
   ],
   "source": [
    "df.shape"
   ]
  },
  {
   "cell_type": "code",
   "execution_count": 99,
   "id": "fc053c37",
   "metadata": {},
   "outputs": [
    {
     "name": "stdout",
     "output_type": "stream",
     "text": [
      "Tweet         0\n",
      "created_at    0\n",
      "dtype: int64\n"
     ]
    }
   ],
   "source": [
    "na_counts = df.isna().sum()\n",
    "print(na_counts)"
   ]
  },
  {
   "cell_type": "code",
   "execution_count": 100,
   "id": "a81597e4",
   "metadata": {},
   "outputs": [
    {
     "data": {
      "text/plain": [
       "0"
      ]
     },
     "execution_count": 100,
     "metadata": {},
     "output_type": "execute_result"
    }
   ],
   "source": [
    "duplicate_counts = df.duplicated().sum()\n",
    "duplicate_counts"
   ]
  },
  {
   "cell_type": "markdown",
   "id": "a075fc72",
   "metadata": {},
   "source": [
    "Storing data to MongoDB after cleaning"
   ]
  },
  {
   "cell_type": "code",
   "execution_count": null,
   "id": "ece500d3",
   "metadata": {},
   "outputs": [
    {
     "name": "stdout",
     "output_type": "stream",
     "text": [
      "The data has been stored in MongoDB\n"
     ]
    }
   ],
   "source": [
    "client = MongoClient('mongodb://localhost:27017/')  \n",
    "db = client['ai_tweets_db']  \n",
    "collection = db['tweets']  \n",
    "data_dict = df.to_dict(\"records\")\n",
    "#   checking if the data already exists\n",
    "if collection.count_documents({}) == 0:\n",
    "    collection.insert_many(data_dict)\n",
    "    print(\"The data has been stored in MongoDB.\")\n",
    "else:\n",
    "    print(\"Data already exists in MongoDB. Skipping insert.\")"
   ]
  },
  {
   "cell_type": "markdown",
   "id": "a13af3f1",
   "metadata": {},
   "source": [
    "Displaying number of docs"
   ]
  },
  {
   "cell_type": "code",
   "execution_count": 108,
   "id": "39926362",
   "metadata": {},
   "outputs": [
    {
     "name": "stdout",
     "output_type": "stream",
     "text": [
      "num. of docs.: 123746\n"
     ]
    }
   ],
   "source": [
    "count = collection.count_documents({})\n",
    "print(f\"num. of docs.: {count}\")"
   ]
  },
  {
   "cell_type": "markdown",
   "id": "3e0e345b",
   "metadata": {},
   "source": [
    "-------------"
   ]
  },
  {
   "cell_type": "markdown",
   "id": "cc19814a",
   "metadata": {},
   "source": [
    "# Sentiment analysis"
   ]
  },
  {
   "cell_type": "code",
   "execution_count": 87,
   "id": "a2749078",
   "metadata": {},
   "outputs": [],
   "source": [
    "# loading data From MogoDB to DataFrame\n",
    "df = pd.DataFrame(list(collection.find()))"
   ]
  },
  {
   "cell_type": "code",
   "execution_count": 88,
   "id": "486d8168",
   "metadata": {},
   "outputs": [],
   "source": [
    "if '_id' in df.columns: #removing ID column since it will cause an issue \n",
    "    df.drop(columns=['_id'], inplace=True)"
   ]
  },
  {
   "cell_type": "code",
   "execution_count": 89,
   "id": "b811c529",
   "metadata": {},
   "outputs": [],
   "source": [
    "vader = SentimentIntensityAnalyzer() #Initialize VADER"
   ]
  },
  {
   "cell_type": "markdown",
   "id": "b32827b3",
   "metadata": {},
   "source": [
    "Functions for sentiment"
   ]
  },
  {
   "cell_type": "code",
   "execution_count": 90,
   "id": "b2a52545",
   "metadata": {},
   "outputs": [],
   "source": [
    "def analyze_vader(txt):\n",
    "    score = vader.polarity_scores(txt)\n",
    "    return score['compound']"
   ]
  },
  {
   "cell_type": "code",
   "execution_count": 91,
   "id": "e885c6a0",
   "metadata": {},
   "outputs": [],
   "source": [
    "def analyze_textblob(txt):\n",
    "    return TextBlob(txt).sentiment.polarity"
   ]
  },
  {
   "cell_type": "markdown",
   "id": "c46c59b7",
   "metadata": {},
   "source": [
    "Apply sentiment analysis"
   ]
  },
  {
   "cell_type": "code",
   "execution_count": 102,
   "id": "dec741b3",
   "metadata": {},
   "outputs": [],
   "source": [
    "df['vader_score'] = df['Tweet'].apply(analyze_vader)\n",
    "df['textblob_score'] = df['Tweet'].apply(analyze_textblob)"
   ]
  },
  {
   "cell_type": "code",
   "execution_count": 103,
   "id": "0b4a9b57",
   "metadata": {},
   "outputs": [
    {
     "data": {
      "application/vnd.microsoft.datawrangler.viewer.v0+json": {
       "columns": [
        {
         "name": "index",
         "rawType": "int64",
         "type": "integer"
        },
        {
         "name": "Tweet",
         "rawType": "object",
         "type": "string"
        },
        {
         "name": "created_at",
         "rawType": "datetime64[ns]",
         "type": "datetime"
        },
        {
         "name": "vader_score",
         "rawType": "float64",
         "type": "float"
        },
        {
         "name": "textblob_score",
         "rawType": "float64",
         "type": "float"
        }
       ],
       "conversionMethod": "pd.DataFrame",
       "ref": "2621fe76-e4f5-4f24-981e-068f202b0b8a",
       "rows": [
        [
         "0",
         "invest in a currency that is designed to offer greater flexibility and customization for personal financial strategies and goals with this coin",
         "2025-03-14 00:00:00",
         "0.5994",
         "0.16666666666666666"
        ],
        [
         "1",
         "while having all the hope around chatgpt lets not forget these tools in other domains too",
         "2025-03-14 00:00:00",
         "0.5523",
         "-0.125"
        ],
        [
         "2",
         "join the movement towards a more sustainable and responsible financial system that prioritizes longterm growth and development 0x73706a7d4c34b3c70a1cd35030b847a0e11403e0",
         "2025-03-14 00:00:00",
         "0.7479",
         "0.2333333333333333"
        ],
        [
         "3",
         "theres a snowstorm out so naturally i decided to ask about ð",
         "2025-03-14 00:00:00",
         "0.0",
         "0.1"
        ],
        [
         "4",
         "invest in a currency that offers a more secure private and confidential way to transact online with this coin 0x73706a7d4c34b3c70a1cd35030b847a0e11403e0",
         "2025-03-14 00:00:00",
         "0.4005",
         "0.25"
        ],
        [
         "5",
         "robots will take over the world ððð",
         "2025-03-14 00:00:00",
         "0.0",
         "0.0"
        ],
        [
         "6",
         "join the community of investors who are committed to advancing the principles of financial empowerment education and advocacy 0x73706a7d4c34b3c70a1cd35030b847a0e11403e0",
         "2025-03-14 00:00:00",
         "0.5106",
         "0.0"
        ],
        [
         "7",
         "âready to start saving lots of time with â maximize your time amp efficiency in the classroom with with my free ebook âï 60 musttry prompts for teachers download it here ð",
         "2025-03-14 00:00:00",
         "0.7003",
         "0.4"
        ],
        [
         "8",
         "not sure if wrote this articleâ",
         "2025-03-14 00:00:00",
         "-0.2411",
         "-0.25"
        ],
        [
         "9",
         "news alert",
         "2025-03-14 00:00:00",
         "0.296",
         "0.0"
        ],
        [
         "10",
         "invest in a currency that is built on a foundation of communitydriven values decentralized governance and open collaboration 0x73706a7d4c34b3c70a1cd35030b847a0e11403e0",
         "2025-03-14 00:00:00",
         "0.4019",
         "0.0"
        ],
        [
         "11",
         "is avalible on",
         "2025-03-14 00:00:00",
         "0.0",
         "0.0"
        ],
        [
         "12",
         "please find the full article here",
         "2025-03-14 00:00:00",
         "0.3182",
         "0.35"
        ],
        [
         "13",
         "new show from lost and watchman show runner damon lindelof looks interesting and quite timely considering the recent rise in generative mrs davis official trailer peacock original via",
         "2025-03-14 00:00:00",
         "0.4019",
         "0.25284090909090906"
        ],
        [
         "14",
         "join the movement towards a more inclusive and equitable financial system that promotes social and economic justice with this coin 0x73706a7d4c34b3c70a1cd35030b847a0e11403e0",
         "2025-03-14 00:00:00",
         "0.7906",
         "0.18333333333333335"
        ],
        [
         "15",
         "3 ways chatgpt will change the future of b2b content marketing via passle by",
         "2025-03-14 00:00:00",
         "0.0",
         "0.0"
        ],
        [
         "16",
         "unlike is running gpt4 optimized mostly for search with significant limitations gpt4 api is available for and will later to released into initially to subscribers read more on the link below",
         "2025-03-14 00:00:00",
         "0.5859",
         "0.29583333333333334"
        ],
        [
         "17",
         "3 4 has 1 trillion parameters making it one of the largest models ever trained and was trained on a diverse corpus of text and image data collected from the internet gpt 35 has 175 billion parameters",
         "2025-03-14 00:00:00",
         "0.0",
         "0.0"
        ],
        [
         "18",
         "invest in a currency that offers a more innovative and dynamic approach to digital asset management and investment with this coin",
         "2025-03-14 00:00:00",
         "0.8204",
         "0.22000000000000003"
        ],
        [
         "19",
         "tune in 5 mins after the top of each hour for lil billys science show on the lair of morpheus news desk the first powered talkshow hear ai discuss 20230314 195517",
         "2025-03-14 00:00:00",
         "0.2023",
         "0.375"
        ]
       ],
       "shape": {
        "columns": 4,
        "rows": 20
       }
      },
      "text/html": [
       "<div>\n",
       "<style scoped>\n",
       "    .dataframe tbody tr th:only-of-type {\n",
       "        vertical-align: middle;\n",
       "    }\n",
       "\n",
       "    .dataframe tbody tr th {\n",
       "        vertical-align: top;\n",
       "    }\n",
       "\n",
       "    .dataframe thead th {\n",
       "        text-align: right;\n",
       "    }\n",
       "</style>\n",
       "<table border=\"1\" class=\"dataframe\">\n",
       "  <thead>\n",
       "    <tr style=\"text-align: right;\">\n",
       "      <th></th>\n",
       "      <th>Tweet</th>\n",
       "      <th>created_at</th>\n",
       "      <th>vader_score</th>\n",
       "      <th>textblob_score</th>\n",
       "    </tr>\n",
       "  </thead>\n",
       "  <tbody>\n",
       "    <tr>\n",
       "      <th>0</th>\n",
       "      <td>invest in a currency that is designed to offer...</td>\n",
       "      <td>2025-03-14</td>\n",
       "      <td>0.5994</td>\n",
       "      <td>0.166667</td>\n",
       "    </tr>\n",
       "    <tr>\n",
       "      <th>1</th>\n",
       "      <td>while having all the hope around chatgpt lets ...</td>\n",
       "      <td>2025-03-14</td>\n",
       "      <td>0.5523</td>\n",
       "      <td>-0.125000</td>\n",
       "    </tr>\n",
       "    <tr>\n",
       "      <th>2</th>\n",
       "      <td>join the movement towards a more sustainable a...</td>\n",
       "      <td>2025-03-14</td>\n",
       "      <td>0.7479</td>\n",
       "      <td>0.233333</td>\n",
       "    </tr>\n",
       "    <tr>\n",
       "      <th>3</th>\n",
       "      <td>theres a snowstorm out so naturally i decided ...</td>\n",
       "      <td>2025-03-14</td>\n",
       "      <td>0.0000</td>\n",
       "      <td>0.100000</td>\n",
       "    </tr>\n",
       "    <tr>\n",
       "      <th>4</th>\n",
       "      <td>invest in a currency that offers a more secure...</td>\n",
       "      <td>2025-03-14</td>\n",
       "      <td>0.4005</td>\n",
       "      <td>0.250000</td>\n",
       "    </tr>\n",
       "    <tr>\n",
       "      <th>5</th>\n",
       "      <td>robots will take over the world ððð</td>\n",
       "      <td>2025-03-14</td>\n",
       "      <td>0.0000</td>\n",
       "      <td>0.000000</td>\n",
       "    </tr>\n",
       "    <tr>\n",
       "      <th>6</th>\n",
       "      <td>join the community of investors who are commit...</td>\n",
       "      <td>2025-03-14</td>\n",
       "      <td>0.5106</td>\n",
       "      <td>0.000000</td>\n",
       "    </tr>\n",
       "    <tr>\n",
       "      <th>7</th>\n",
       "      <td>âready to start saving lots of time with â max...</td>\n",
       "      <td>2025-03-14</td>\n",
       "      <td>0.7003</td>\n",
       "      <td>0.400000</td>\n",
       "    </tr>\n",
       "    <tr>\n",
       "      <th>8</th>\n",
       "      <td>not sure if wrote this articleâ</td>\n",
       "      <td>2025-03-14</td>\n",
       "      <td>-0.2411</td>\n",
       "      <td>-0.250000</td>\n",
       "    </tr>\n",
       "    <tr>\n",
       "      <th>9</th>\n",
       "      <td>news alert</td>\n",
       "      <td>2025-03-14</td>\n",
       "      <td>0.2960</td>\n",
       "      <td>0.000000</td>\n",
       "    </tr>\n",
       "    <tr>\n",
       "      <th>10</th>\n",
       "      <td>invest in a currency that is built on a founda...</td>\n",
       "      <td>2025-03-14</td>\n",
       "      <td>0.4019</td>\n",
       "      <td>0.000000</td>\n",
       "    </tr>\n",
       "    <tr>\n",
       "      <th>11</th>\n",
       "      <td>is avalible on</td>\n",
       "      <td>2025-03-14</td>\n",
       "      <td>0.0000</td>\n",
       "      <td>0.000000</td>\n",
       "    </tr>\n",
       "    <tr>\n",
       "      <th>12</th>\n",
       "      <td>please find the full article here</td>\n",
       "      <td>2025-03-14</td>\n",
       "      <td>0.3182</td>\n",
       "      <td>0.350000</td>\n",
       "    </tr>\n",
       "    <tr>\n",
       "      <th>13</th>\n",
       "      <td>new show from lost and watchman show runner da...</td>\n",
       "      <td>2025-03-14</td>\n",
       "      <td>0.4019</td>\n",
       "      <td>0.252841</td>\n",
       "    </tr>\n",
       "    <tr>\n",
       "      <th>14</th>\n",
       "      <td>join the movement towards a more inclusive and...</td>\n",
       "      <td>2025-03-14</td>\n",
       "      <td>0.7906</td>\n",
       "      <td>0.183333</td>\n",
       "    </tr>\n",
       "    <tr>\n",
       "      <th>15</th>\n",
       "      <td>3 ways chatgpt will change the future of b2b c...</td>\n",
       "      <td>2025-03-14</td>\n",
       "      <td>0.0000</td>\n",
       "      <td>0.000000</td>\n",
       "    </tr>\n",
       "    <tr>\n",
       "      <th>16</th>\n",
       "      <td>unlike is running gpt4 optimized mostly for se...</td>\n",
       "      <td>2025-03-14</td>\n",
       "      <td>0.5859</td>\n",
       "      <td>0.295833</td>\n",
       "    </tr>\n",
       "    <tr>\n",
       "      <th>17</th>\n",
       "      <td>3 4 has 1 trillion parameters making it one of...</td>\n",
       "      <td>2025-03-14</td>\n",
       "      <td>0.0000</td>\n",
       "      <td>0.000000</td>\n",
       "    </tr>\n",
       "    <tr>\n",
       "      <th>18</th>\n",
       "      <td>invest in a currency that offers a more innova...</td>\n",
       "      <td>2025-03-14</td>\n",
       "      <td>0.8204</td>\n",
       "      <td>0.220000</td>\n",
       "    </tr>\n",
       "    <tr>\n",
       "      <th>19</th>\n",
       "      <td>tune in 5 mins after the top of each hour for ...</td>\n",
       "      <td>2025-03-14</td>\n",
       "      <td>0.2023</td>\n",
       "      <td>0.375000</td>\n",
       "    </tr>\n",
       "  </tbody>\n",
       "</table>\n",
       "</div>"
      ],
      "text/plain": [
       "                                                Tweet created_at  vader_score  \\\n",
       "0   invest in a currency that is designed to offer... 2025-03-14       0.5994   \n",
       "1   while having all the hope around chatgpt lets ... 2025-03-14       0.5523   \n",
       "2   join the movement towards a more sustainable a... 2025-03-14       0.7479   \n",
       "3   theres a snowstorm out so naturally i decided ... 2025-03-14       0.0000   \n",
       "4   invest in a currency that offers a more secure... 2025-03-14       0.4005   \n",
       "5                 robots will take over the world ððð 2025-03-14       0.0000   \n",
       "6   join the community of investors who are commit... 2025-03-14       0.5106   \n",
       "7   âready to start saving lots of time with â max... 2025-03-14       0.7003   \n",
       "8                     not sure if wrote this articleâ 2025-03-14      -0.2411   \n",
       "9                                          news alert 2025-03-14       0.2960   \n",
       "10  invest in a currency that is built on a founda... 2025-03-14       0.4019   \n",
       "11                                     is avalible on 2025-03-14       0.0000   \n",
       "12                  please find the full article here 2025-03-14       0.3182   \n",
       "13  new show from lost and watchman show runner da... 2025-03-14       0.4019   \n",
       "14  join the movement towards a more inclusive and... 2025-03-14       0.7906   \n",
       "15  3 ways chatgpt will change the future of b2b c... 2025-03-14       0.0000   \n",
       "16  unlike is running gpt4 optimized mostly for se... 2025-03-14       0.5859   \n",
       "17  3 4 has 1 trillion parameters making it one of... 2025-03-14       0.0000   \n",
       "18  invest in a currency that offers a more innova... 2025-03-14       0.8204   \n",
       "19  tune in 5 mins after the top of each hour for ... 2025-03-14       0.2023   \n",
       "\n",
       "    textblob_score  \n",
       "0         0.166667  \n",
       "1        -0.125000  \n",
       "2         0.233333  \n",
       "3         0.100000  \n",
       "4         0.250000  \n",
       "5         0.000000  \n",
       "6         0.000000  \n",
       "7         0.400000  \n",
       "8        -0.250000  \n",
       "9         0.000000  \n",
       "10        0.000000  \n",
       "11        0.000000  \n",
       "12        0.350000  \n",
       "13        0.252841  \n",
       "14        0.183333  \n",
       "15        0.000000  \n",
       "16        0.295833  \n",
       "17        0.000000  \n",
       "18        0.220000  \n",
       "19        0.375000  "
      ]
     },
     "execution_count": 103,
     "metadata": {},
     "output_type": "execute_result"
    }
   ],
   "source": [
    "df.head(20)"
   ]
  },
  {
   "cell_type": "code",
   "execution_count": 104,
   "id": "f667b2e0",
   "metadata": {},
   "outputs": [
    {
     "data": {
      "application/vnd.microsoft.datawrangler.viewer.v0+json": {
       "columns": [
        {
         "name": "index",
         "rawType": "int64",
         "type": "integer"
        },
        {
         "name": "Tweet",
         "rawType": "object",
         "type": "string"
        },
        {
         "name": "created_at",
         "rawType": "datetime64[ns]",
         "type": "datetime"
        },
        {
         "name": "vader_score",
         "rawType": "float64",
         "type": "float"
        },
        {
         "name": "textblob_score",
         "rawType": "float64",
         "type": "float"
        }
       ],
       "conversionMethod": "pd.DataFrame",
       "ref": "05439094-10a9-467c-a71b-795231a21e55",
       "rows": [
        [
         "151618",
         "deepseek said something that made me feel like iâm behind on everything but also i needed that wakeup call â",
         "2025-04-19 00:00:00",
         "0.1901",
         "-0.4"
        ],
        [
         "151619",
         "chatgpt helped me with my homework and now iâm questioning my entire life",
         "2025-02-16 00:00:00",
         "-0.1027",
         "0.0"
        ],
        [
         "151620",
         "deepseek told me the truth i wasnât ready to hear thanks i guess",
         "2025-04-15 00:00:00",
         "0.7717",
         "0.2"
        ],
        [
         "151621",
         "chatgpt is too good at answering questions is it secretly taking over the world",
         "2025-03-16 00:00:00",
         "0.4404",
         "0.14999999999999997"
        ],
        [
         "151622",
         "deepseekâs out here changing my life with predictions i didnât even know i needed",
         "2025-02-05 00:00:00",
         "0.0",
         "0.0"
        ],
        [
         "151623",
         "chatgpt helped me plan my life but iâm still waiting for it to help me plan my weekend",
         "2025-03-28 00:00:00",
         "0.5499",
         "0.0"
        ],
        [
         "151624",
         "deepseek saw my mistakes before i did itâs honestly impressive but also kind of intimidating",
         "2025-03-12 00:00:00",
         "-0.4385",
         "0.8"
        ],
        [
         "151625",
         "chatgpt just made me realize iâve been living under a rock time to catch up â³",
         "2025-03-31 00:00:00",
         "0.0",
         "0.0"
        ],
        [
         "151626",
         "deepseek knows more about trends than i do iâm just here trying to figure out whatâs going on ââï",
         "2025-02-09 00:00:00",
         "0.0",
         "0.5"
        ],
        [
         "151627",
         "chatgpt is basically a walking talking brain i wish it could carry my groceries too",
         "2025-03-30 00:00:00",
         "0.4019",
         "0.0"
        ],
        [
         "151628",
         "deepseekâs predictions are so accurate iâm starting to think it has access to a time machine â³",
         "2025-02-15 00:00:00",
         "0.0",
         "0.20000000000000004"
        ],
        [
         "151629",
         "chatgpt do you ever take a break youâre answering everything faster than i can ask",
         "2025-02-04 00:00:00",
         "0.0",
         "0.0"
        ],
        [
         "151630",
         "deepseek is the ai version of a fortune cookie but way more accurate",
         "2025-03-07 00:00:00",
         "0.0",
         "0.45000000000000007"
        ],
        [
         "151631",
         "chatgpt made me realize iâm way too behind on the ai trend time to catch up for real",
         "2025-04-20 00:00:00",
         "0.0",
         "-0.1"
        ],
        [
         "151632",
         "deepseek is like a personal assistant that never sleeps i need that kind of energy â",
         "2025-03-19 00:00:00",
         "0.5118",
         "0.3"
        ],
        [
         "151633",
         "chatgpt answered my question before i even asked it is it reading my mind",
         "2025-02-28 00:00:00",
         "0.0",
         "0.0"
        ],
        [
         "151634",
         "deepseek predicted my future like itâs living in the year 3000",
         "2025-03-10 00:00:00",
         "0.3612",
         "0.0"
        ],
        [
         "151635",
         "chatgpt made me feel like iâve been missing out on a whole new world of possibilities",
         "2025-04-21 00:00:00",
         "0.0772",
         "0.04545454545454545"
        ],
        [
         "151636",
         "deepseek is so smart it should probably be running for president by now ³ï",
         "2025-02-01 00:00:00",
         "0.541",
         "0.21428571428571427"
        ],
        [
         "151637",
         "chatgptâs always there when i need help with my thoughts even if i",
         "2025-03-03 00:00:00",
         "0.4019",
         "0.0"
        ]
       ],
       "shape": {
        "columns": 4,
        "rows": 20
       }
      },
      "text/html": [
       "<div>\n",
       "<style scoped>\n",
       "    .dataframe tbody tr th:only-of-type {\n",
       "        vertical-align: middle;\n",
       "    }\n",
       "\n",
       "    .dataframe tbody tr th {\n",
       "        vertical-align: top;\n",
       "    }\n",
       "\n",
       "    .dataframe thead th {\n",
       "        text-align: right;\n",
       "    }\n",
       "</style>\n",
       "<table border=\"1\" class=\"dataframe\">\n",
       "  <thead>\n",
       "    <tr style=\"text-align: right;\">\n",
       "      <th></th>\n",
       "      <th>Tweet</th>\n",
       "      <th>created_at</th>\n",
       "      <th>vader_score</th>\n",
       "      <th>textblob_score</th>\n",
       "    </tr>\n",
       "  </thead>\n",
       "  <tbody>\n",
       "    <tr>\n",
       "      <th>151618</th>\n",
       "      <td>deepseek said something that made me feel like...</td>\n",
       "      <td>2025-04-19</td>\n",
       "      <td>0.1901</td>\n",
       "      <td>-0.400000</td>\n",
       "    </tr>\n",
       "    <tr>\n",
       "      <th>151619</th>\n",
       "      <td>chatgpt helped me with my homework and now iâm...</td>\n",
       "      <td>2025-02-16</td>\n",
       "      <td>-0.1027</td>\n",
       "      <td>0.000000</td>\n",
       "    </tr>\n",
       "    <tr>\n",
       "      <th>151620</th>\n",
       "      <td>deepseek told me the truth i wasnât ready to h...</td>\n",
       "      <td>2025-04-15</td>\n",
       "      <td>0.7717</td>\n",
       "      <td>0.200000</td>\n",
       "    </tr>\n",
       "    <tr>\n",
       "      <th>151621</th>\n",
       "      <td>chatgpt is too good at answering questions is ...</td>\n",
       "      <td>2025-03-16</td>\n",
       "      <td>0.4404</td>\n",
       "      <td>0.150000</td>\n",
       "    </tr>\n",
       "    <tr>\n",
       "      <th>151622</th>\n",
       "      <td>deepseekâs out here changing my life with pred...</td>\n",
       "      <td>2025-02-05</td>\n",
       "      <td>0.0000</td>\n",
       "      <td>0.000000</td>\n",
       "    </tr>\n",
       "    <tr>\n",
       "      <th>151623</th>\n",
       "      <td>chatgpt helped me plan my life but iâm still w...</td>\n",
       "      <td>2025-03-28</td>\n",
       "      <td>0.5499</td>\n",
       "      <td>0.000000</td>\n",
       "    </tr>\n",
       "    <tr>\n",
       "      <th>151624</th>\n",
       "      <td>deepseek saw my mistakes before i did itâs hon...</td>\n",
       "      <td>2025-03-12</td>\n",
       "      <td>-0.4385</td>\n",
       "      <td>0.800000</td>\n",
       "    </tr>\n",
       "    <tr>\n",
       "      <th>151625</th>\n",
       "      <td>chatgpt just made me realize iâve been living ...</td>\n",
       "      <td>2025-03-31</td>\n",
       "      <td>0.0000</td>\n",
       "      <td>0.000000</td>\n",
       "    </tr>\n",
       "    <tr>\n",
       "      <th>151626</th>\n",
       "      <td>deepseek knows more about trends than i do iâm...</td>\n",
       "      <td>2025-02-09</td>\n",
       "      <td>0.0000</td>\n",
       "      <td>0.500000</td>\n",
       "    </tr>\n",
       "    <tr>\n",
       "      <th>151627</th>\n",
       "      <td>chatgpt is basically a walking talking brain i...</td>\n",
       "      <td>2025-03-30</td>\n",
       "      <td>0.4019</td>\n",
       "      <td>0.000000</td>\n",
       "    </tr>\n",
       "    <tr>\n",
       "      <th>151628</th>\n",
       "      <td>deepseekâs predictions are so accurate iâm sta...</td>\n",
       "      <td>2025-02-15</td>\n",
       "      <td>0.0000</td>\n",
       "      <td>0.200000</td>\n",
       "    </tr>\n",
       "    <tr>\n",
       "      <th>151629</th>\n",
       "      <td>chatgpt do you ever take a break youâre answer...</td>\n",
       "      <td>2025-02-04</td>\n",
       "      <td>0.0000</td>\n",
       "      <td>0.000000</td>\n",
       "    </tr>\n",
       "    <tr>\n",
       "      <th>151630</th>\n",
       "      <td>deepseek is the ai version of a fortune cookie...</td>\n",
       "      <td>2025-03-07</td>\n",
       "      <td>0.0000</td>\n",
       "      <td>0.450000</td>\n",
       "    </tr>\n",
       "    <tr>\n",
       "      <th>151631</th>\n",
       "      <td>chatgpt made me realize iâm way too behind on ...</td>\n",
       "      <td>2025-04-20</td>\n",
       "      <td>0.0000</td>\n",
       "      <td>-0.100000</td>\n",
       "    </tr>\n",
       "    <tr>\n",
       "      <th>151632</th>\n",
       "      <td>deepseek is like a personal assistant that nev...</td>\n",
       "      <td>2025-03-19</td>\n",
       "      <td>0.5118</td>\n",
       "      <td>0.300000</td>\n",
       "    </tr>\n",
       "    <tr>\n",
       "      <th>151633</th>\n",
       "      <td>chatgpt answered my question before i even ask...</td>\n",
       "      <td>2025-02-28</td>\n",
       "      <td>0.0000</td>\n",
       "      <td>0.000000</td>\n",
       "    </tr>\n",
       "    <tr>\n",
       "      <th>151634</th>\n",
       "      <td>deepseek predicted my future like itâs living ...</td>\n",
       "      <td>2025-03-10</td>\n",
       "      <td>0.3612</td>\n",
       "      <td>0.000000</td>\n",
       "    </tr>\n",
       "    <tr>\n",
       "      <th>151635</th>\n",
       "      <td>chatgpt made me feel like iâve been missing ou...</td>\n",
       "      <td>2025-04-21</td>\n",
       "      <td>0.0772</td>\n",
       "      <td>0.045455</td>\n",
       "    </tr>\n",
       "    <tr>\n",
       "      <th>151636</th>\n",
       "      <td>deepseek is so smart it should probably be run...</td>\n",
       "      <td>2025-02-01</td>\n",
       "      <td>0.5410</td>\n",
       "      <td>0.214286</td>\n",
       "    </tr>\n",
       "    <tr>\n",
       "      <th>151637</th>\n",
       "      <td>chatgptâs always there when i need help with m...</td>\n",
       "      <td>2025-03-03</td>\n",
       "      <td>0.4019</td>\n",
       "      <td>0.000000</td>\n",
       "    </tr>\n",
       "  </tbody>\n",
       "</table>\n",
       "</div>"
      ],
      "text/plain": [
       "                                                    Tweet created_at  \\\n",
       "151618  deepseek said something that made me feel like... 2025-04-19   \n",
       "151619  chatgpt helped me with my homework and now iâm... 2025-02-16   \n",
       "151620  deepseek told me the truth i wasnât ready to h... 2025-04-15   \n",
       "151621  chatgpt is too good at answering questions is ... 2025-03-16   \n",
       "151622  deepseekâs out here changing my life with pred... 2025-02-05   \n",
       "151623  chatgpt helped me plan my life but iâm still w... 2025-03-28   \n",
       "151624  deepseek saw my mistakes before i did itâs hon... 2025-03-12   \n",
       "151625  chatgpt just made me realize iâve been living ... 2025-03-31   \n",
       "151626  deepseek knows more about trends than i do iâm... 2025-02-09   \n",
       "151627  chatgpt is basically a walking talking brain i... 2025-03-30   \n",
       "151628  deepseekâs predictions are so accurate iâm sta... 2025-02-15   \n",
       "151629  chatgpt do you ever take a break youâre answer... 2025-02-04   \n",
       "151630  deepseek is the ai version of a fortune cookie... 2025-03-07   \n",
       "151631  chatgpt made me realize iâm way too behind on ... 2025-04-20   \n",
       "151632  deepseek is like a personal assistant that nev... 2025-03-19   \n",
       "151633  chatgpt answered my question before i even ask... 2025-02-28   \n",
       "151634  deepseek predicted my future like itâs living ... 2025-03-10   \n",
       "151635  chatgpt made me feel like iâve been missing ou... 2025-04-21   \n",
       "151636  deepseek is so smart it should probably be run... 2025-02-01   \n",
       "151637  chatgptâs always there when i need help with m... 2025-03-03   \n",
       "\n",
       "        vader_score  textblob_score  \n",
       "151618       0.1901       -0.400000  \n",
       "151619      -0.1027        0.000000  \n",
       "151620       0.7717        0.200000  \n",
       "151621       0.4404        0.150000  \n",
       "151622       0.0000        0.000000  \n",
       "151623       0.5499        0.000000  \n",
       "151624      -0.4385        0.800000  \n",
       "151625       0.0000        0.000000  \n",
       "151626       0.0000        0.500000  \n",
       "151627       0.4019        0.000000  \n",
       "151628       0.0000        0.200000  \n",
       "151629       0.0000        0.000000  \n",
       "151630       0.0000        0.450000  \n",
       "151631       0.0000       -0.100000  \n",
       "151632       0.5118        0.300000  \n",
       "151633       0.0000        0.000000  \n",
       "151634       0.3612        0.000000  \n",
       "151635       0.0772        0.045455  \n",
       "151636       0.5410        0.214286  \n",
       "151637       0.4019        0.000000  "
      ]
     },
     "execution_count": 104,
     "metadata": {},
     "output_type": "execute_result"
    }
   ],
   "source": [
    "df.tail(20) "
   ]
  },
  {
   "cell_type": "markdown",
   "id": "31fd1388",
   "metadata": {},
   "source": [
    "Add sentiment labels ('Positive', 'Neutral', 'Negative')"
   ]
  },
  {
   "cell_type": "code",
   "execution_count": null,
   "id": "3afdbe67",
   "metadata": {},
   "outputs": [],
   "source": [
    "def label_sentiment(score):\n",
    "    if score >= 0.05:\n",
    "        return 'Positive'\n",
    "    \n",
    "    elif score <= -0.05:\n",
    "        return 'Negative'\n",
    "    \n",
    "    else: \n",
    "        return 'Neutral'"
   ]
  },
  {
   "cell_type": "code",
   "execution_count": 107,
   "id": "b9c1d51b",
   "metadata": {},
   "outputs": [
    {
     "data": {
      "application/vnd.microsoft.datawrangler.viewer.v0+json": {
       "columns": [
        {
         "name": "index",
         "rawType": "int64",
         "type": "integer"
        },
        {
         "name": "Tweet",
         "rawType": "object",
         "type": "string"
        },
        {
         "name": "created_at",
         "rawType": "datetime64[ns]",
         "type": "datetime"
        },
        {
         "name": "vader_score",
         "rawType": "float64",
         "type": "float"
        },
        {
         "name": "sentiment",
         "rawType": "object",
         "type": "string"
        }
       ],
       "conversionMethod": "pd.DataFrame",
       "ref": "9283b372-0097-42ec-be23-82a8aa7f9a47",
       "rows": [
        [
         "0",
         "invest in a currency that is designed to offer greater flexibility and customization for personal financial strategies and goals with this coin",
         "2025-03-14 00:00:00",
         "0.5994",
         "Positive"
        ],
        [
         "1",
         "while having all the hope around chatgpt lets not forget these tools in other domains too",
         "2025-03-14 00:00:00",
         "0.5523",
         "Positive"
        ],
        [
         "2",
         "join the movement towards a more sustainable and responsible financial system that prioritizes longterm growth and development 0x73706a7d4c34b3c70a1cd35030b847a0e11403e0",
         "2025-03-14 00:00:00",
         "0.7479",
         "Positive"
        ],
        [
         "3",
         "theres a snowstorm out so naturally i decided to ask about ð",
         "2025-03-14 00:00:00",
         "0.0",
         "Neutral"
        ],
        [
         "4",
         "invest in a currency that offers a more secure private and confidential way to transact online with this coin 0x73706a7d4c34b3c70a1cd35030b847a0e11403e0",
         "2025-03-14 00:00:00",
         "0.4005",
         "Positive"
        ]
       ],
       "shape": {
        "columns": 4,
        "rows": 5
       }
      },
      "text/html": [
       "<div>\n",
       "<style scoped>\n",
       "    .dataframe tbody tr th:only-of-type {\n",
       "        vertical-align: middle;\n",
       "    }\n",
       "\n",
       "    .dataframe tbody tr th {\n",
       "        vertical-align: top;\n",
       "    }\n",
       "\n",
       "    .dataframe thead th {\n",
       "        text-align: right;\n",
       "    }\n",
       "</style>\n",
       "<table border=\"1\" class=\"dataframe\">\n",
       "  <thead>\n",
       "    <tr style=\"text-align: right;\">\n",
       "      <th></th>\n",
       "      <th>Tweet</th>\n",
       "      <th>created_at</th>\n",
       "      <th>vader_score</th>\n",
       "      <th>sentiment</th>\n",
       "    </tr>\n",
       "  </thead>\n",
       "  <tbody>\n",
       "    <tr>\n",
       "      <th>0</th>\n",
       "      <td>invest in a currency that is designed to offer...</td>\n",
       "      <td>2025-03-14</td>\n",
       "      <td>0.5994</td>\n",
       "      <td>Positive</td>\n",
       "    </tr>\n",
       "    <tr>\n",
       "      <th>1</th>\n",
       "      <td>while having all the hope around chatgpt lets ...</td>\n",
       "      <td>2025-03-14</td>\n",
       "      <td>0.5523</td>\n",
       "      <td>Positive</td>\n",
       "    </tr>\n",
       "    <tr>\n",
       "      <th>2</th>\n",
       "      <td>join the movement towards a more sustainable a...</td>\n",
       "      <td>2025-03-14</td>\n",
       "      <td>0.7479</td>\n",
       "      <td>Positive</td>\n",
       "    </tr>\n",
       "    <tr>\n",
       "      <th>3</th>\n",
       "      <td>theres a snowstorm out so naturally i decided ...</td>\n",
       "      <td>2025-03-14</td>\n",
       "      <td>0.0000</td>\n",
       "      <td>Neutral</td>\n",
       "    </tr>\n",
       "    <tr>\n",
       "      <th>4</th>\n",
       "      <td>invest in a currency that offers a more secure...</td>\n",
       "      <td>2025-03-14</td>\n",
       "      <td>0.4005</td>\n",
       "      <td>Positive</td>\n",
       "    </tr>\n",
       "  </tbody>\n",
       "</table>\n",
       "</div>"
      ],
      "text/plain": [
       "                                               Tweet created_at  vader_score  \\\n",
       "0  invest in a currency that is designed to offer... 2025-03-14       0.5994   \n",
       "1  while having all the hope around chatgpt lets ... 2025-03-14       0.5523   \n",
       "2  join the movement towards a more sustainable a... 2025-03-14       0.7479   \n",
       "3  theres a snowstorm out so naturally i decided ... 2025-03-14       0.0000   \n",
       "4  invest in a currency that offers a more secure... 2025-03-14       0.4005   \n",
       "\n",
       "  sentiment  \n",
       "0  Positive  \n",
       "1  Positive  \n",
       "2  Positive  \n",
       "3   Neutral  \n",
       "4  Positive  "
      ]
     },
     "execution_count": 107,
     "metadata": {},
     "output_type": "execute_result"
    }
   ],
   "source": [
    "df['sentiment'] = df['vader_score'].apply(label_sentiment)\n",
    "df.drop(columns=['textblob_score'], inplace=True)\n",
    "df.head()"
   ]
  },
  {
   "cell_type": "markdown",
   "id": "fa67e9c2",
   "metadata": {},
   "source": [
    "Store back to MongoDB"
   ]
  },
  {
   "cell_type": "code",
   "execution_count": 109,
   "id": "e5c67886",
   "metadata": {},
   "outputs": [
    {
     "name": "stdout",
     "output_type": "stream",
     "text": [
      "Add & Saved to MogoDB\n"
     ]
    }
   ],
   "source": [
    "collection.drop() # drop old collection to avoid duplicates\n",
    "collection.insert_many(df.to_dict('records'))\n",
    "print('Add & Saved to MogoDB')"
   ]
  },
  {
   "cell_type": "markdown",
   "id": "fd7b54de",
   "metadata": {},
   "source": [
    "------------"
   ]
  },
  {
   "cell_type": "markdown",
   "id": "516e89e0",
   "metadata": {},
   "source": [
    "Comparing the average NLP & CV Sentiment"
   ]
  },
  {
   "cell_type": "code",
   "execution_count": 110,
   "id": "ac5d1821",
   "metadata": {},
   "outputs": [],
   "source": [
    "nlp_keywords = ['NLP', 'Natural Language Processing', 'Text', 'Language model']\n",
    "cv_keywords = ['Computer Vision', 'Image', 'YOLO', 'ResNet', 'Object detection']"
   ]
  },
  {
   "cell_type": "code",
   "execution_count": null,
   "id": "f479edd9",
   "metadata": {},
   "outputs": [],
   "source": [
    "#Filter NLP & CV tweets\n",
    "nlp_tweets = df[df['Tweet'].str.contains('|'.join(nlp_keywords), case=False, na=False)]\n",
    "cv_tweets = df[df['Tweet'].str.contains('|'.join(cv_keywords), case=False, na=False)]"
   ]
  },
  {
   "cell_type": "code",
   "execution_count": 118,
   "id": "c6dc2d7b",
   "metadata": {},
   "outputs": [
    {
     "name": "stdout",
     "output_type": "stream",
     "text": [
      "NLP: (4011, 4)\n",
      "CV: (1280, 4)\n"
     ]
    }
   ],
   "source": [
    "print(f'NLP: {nlp_tweets.shape}')\n",
    "print(f'CV: {cv_tweets.shape}')"
   ]
  },
  {
   "cell_type": "code",
   "execution_count": null,
   "id": "9b3f8233",
   "metadata": {},
   "outputs": [],
   "source": [
    "#Compute average sentiment for both NLP & CV\n",
    "avg_nlp_sentiment  = label_sentiment(nlp_tweets['vader_score'].mean())\n",
    "avg_cv_sentiment = label_sentiment(cv_tweets['vader_score'].mean())"
   ]
  },
  {
   "cell_type": "code",
   "execution_count": null,
   "id": "309c0224",
   "metadata": {},
   "outputs": [],
   "source": [
    "#Compute the most common sentiment \n",
    "common_nlp_sentiment = df['sentiment'].mode()[0]\n",
    "common_cv_sentiment = df['sentiment'].mode()[0]"
   ]
  },
  {
   "cell_type": "code",
   "execution_count": null,
   "id": "1df8a43d",
   "metadata": {},
   "outputs": [],
   "source": [
    "#Sentiment counts\n",
    "nlp_sentiment  = nlp_tweets['sentiment'].value_counts().to_dict()\n",
    "cv_sentiment = cv_tweets['sentiment'].value_counts().to_dict()"
   ]
  },
  {
   "cell_type": "code",
   "execution_count": null,
   "id": "a7b1cf54",
   "metadata": {},
   "outputs": [
    {
     "data": {
      "application/vnd.microsoft.datawrangler.viewer.v0+json": {
       "columns": [
        {
         "name": "index",
         "rawType": "int64",
         "type": "integer"
        },
        {
         "name": "Metric",
         "rawType": "object",
         "type": "string"
        },
        {
         "name": "NLP",
         "rawType": "object",
         "type": "unknown"
        },
        {
         "name": "CV",
         "rawType": "object",
         "type": "unknown"
        }
       ],
       "conversionMethod": "pd.DataFrame",
       "ref": "9f50882c-aace-4bca-b83d-0f2e6b880fa6",
       "rows": [
        [
         "0",
         "Average Sentiment",
         "Positive",
         "Positive"
        ],
        [
         "1",
         "Most Common Sentiment",
         "Positive",
         "Positive"
        ],
        [
         "2",
         "Positive Tweets Counts",
         "2699",
         "838"
        ],
        [
         "3",
         "Neutral Tweets Counts",
         "838",
         "324"
        ],
        [
         "4",
         "Negative Tweets Counts",
         "474",
         "118"
        ],
        [
         "5",
         "No tweets",
         "4011",
         "1280"
        ]
       ],
       "shape": {
        "columns": 3,
        "rows": 6
       }
      },
      "text/html": [
       "<div>\n",
       "<style scoped>\n",
       "    .dataframe tbody tr th:only-of-type {\n",
       "        vertical-align: middle;\n",
       "    }\n",
       "\n",
       "    .dataframe tbody tr th {\n",
       "        vertical-align: top;\n",
       "    }\n",
       "\n",
       "    .dataframe thead th {\n",
       "        text-align: right;\n",
       "    }\n",
       "</style>\n",
       "<table border=\"1\" class=\"dataframe\">\n",
       "  <thead>\n",
       "    <tr style=\"text-align: right;\">\n",
       "      <th></th>\n",
       "      <th>Metric</th>\n",
       "      <th>NLP</th>\n",
       "      <th>CV</th>\n",
       "    </tr>\n",
       "  </thead>\n",
       "  <tbody>\n",
       "    <tr>\n",
       "      <th>0</th>\n",
       "      <td>Average Sentiment</td>\n",
       "      <td>Positive</td>\n",
       "      <td>Positive</td>\n",
       "    </tr>\n",
       "    <tr>\n",
       "      <th>1</th>\n",
       "      <td>Most Common Sentiment</td>\n",
       "      <td>Positive</td>\n",
       "      <td>Positive</td>\n",
       "    </tr>\n",
       "    <tr>\n",
       "      <th>2</th>\n",
       "      <td>Positive Tweets Counts</td>\n",
       "      <td>2699</td>\n",
       "      <td>838</td>\n",
       "    </tr>\n",
       "    <tr>\n",
       "      <th>3</th>\n",
       "      <td>Neutral Tweets Counts</td>\n",
       "      <td>838</td>\n",
       "      <td>324</td>\n",
       "    </tr>\n",
       "    <tr>\n",
       "      <th>4</th>\n",
       "      <td>Negative Tweets Counts</td>\n",
       "      <td>474</td>\n",
       "      <td>118</td>\n",
       "    </tr>\n",
       "    <tr>\n",
       "      <th>5</th>\n",
       "      <td>No tweets</td>\n",
       "      <td>4011</td>\n",
       "      <td>1280</td>\n",
       "    </tr>\n",
       "  </tbody>\n",
       "</table>\n",
       "</div>"
      ],
      "text/plain": [
       "                   Metric       NLP        CV\n",
       "0       Average Sentiment  Positive  Positive\n",
       "1   Most Common Sentiment  Positive  Positive\n",
       "2  Positive Tweets Counts      2699       838\n",
       "3   Neutral Tweets Counts       838       324\n",
       "4  Negative Tweets Counts       474       118\n",
       "5               No tweets      4011      1280"
      ]
     },
     "execution_count": 129,
     "metadata": {},
     "output_type": "execute_result"
    }
   ],
   "source": [
    "# Storing results in DataFrame for later visualization\n",
    "data = {\n",
    "    'Metric': ['Average Sentiment', 'Most Common Sentiment', 'Positive Tweets Counts', 'Neutral Tweets Counts', 'Negative Tweets Counts' , 'No tweets'],\n",
    "    'NLP': [avg_nlp_sentiment, common_nlp_sentiment, nlp_sentiment['Positive'], nlp_sentiment['Neutral'], nlp_sentiment['Negative'], len(nlp_tweets)],\n",
    "    'CV': [avg_cv_sentiment, common_cv_sentiment, cv_sentiment['Positive'], cv_sentiment['Neutral'], cv_sentiment['Negative'], len(cv_tweets)]\n",
    "}\n",
    "\n",
    "npl_cv_df = pd.DataFrame(data)\n",
    "npl_cv_df"
   ]
  },
  {
   "cell_type": "markdown",
   "id": "0a8269de",
   "metadata": {},
   "source": [
    "----"
   ]
  },
  {
   "cell_type": "markdown",
   "id": "b1926cac",
   "metadata": {},
   "source": [
    "Analyze sentiment upon specific events"
   ]
  },
  {
   "cell_type": "code",
   "execution_count": 134,
   "id": "5802f2a1",
   "metadata": {},
   "outputs": [],
   "source": [
    "events = {\n",
    "    'ChatGPT Homework surge': {'Start_Date': '2025-02-12', 'End_Date': '2025-02-18', \"keyword\": ['ChatGPT', 'homework']},\n",
    "    'AI Crypto Hype': {'Start_Date': '2025-03-12', 'End_Date': '2025-03-16', 'keyword': [\"invest\", \"crypto\", \"AI\"]}\n",
    "}"
   ]
  },
  {
   "cell_type": "code",
   "execution_count": 135,
   "id": "8b069156",
   "metadata": {},
   "outputs": [],
   "source": [
    "def analyze_events(event_name, start_date, end_date, keywords):\n",
    "    start = pd.to_datetime(start_date)\n",
    "    end = pd.to_datetime(end_date)\n",
    "    \n",
    "    #Filter tweets by date and key words\n",
    "    event_tweets = df[(df['created_at'] >= start) & \n",
    "                      (df['created_at'] <= end) & \n",
    "                      df['Tweet'].str.contains('|'.join(keywords), case= False, na=False)]\n",
    "    \n",
    "    # Calculate metrics \n",
    "    avg_sentiment = event_tweets['vader_score'].mean()\n",
    "    sentiment_counts = event_tweets['sentiment'].value_counts().to_dict()\n",
    "    \n",
    "    return{\n",
    "         \"Event\": event_name,\n",
    "        \"Avg_Sentiment\": avg_sentiment,\n",
    "        \"Sentiment_Label\": label_sentiment(avg_sentiment),\n",
    "        \"Positive_Tweets\": sentiment_counts.get('Positive', 0),\n",
    "        \"Neutral_Tweets\": sentiment_counts.get('Neutral', 0),\n",
    "        \"Negative_Tweets\": sentiment_counts.get('Negative', 0),\n",
    "        \"Total_Tweets\": len(event_tweets)\n",
    "    }"
   ]
  },
  {
   "cell_type": "code",
   "execution_count": 136,
   "id": "ec476b65",
   "metadata": {},
   "outputs": [],
   "source": [
    "result = []\n",
    "for event_name, details in events.items():\n",
    "    result.append(analyze_events(\n",
    "        event_name,\n",
    "        details['Start_Date'],\n",
    "        details['End_Date'],\n",
    "        details['keyword']\n",
    "    ))"
   ]
  },
  {
   "cell_type": "code",
   "execution_count": 137,
   "id": "c5fcbbfc",
   "metadata": {},
   "outputs": [
    {
     "data": {
      "application/vnd.microsoft.datawrangler.viewer.v0+json": {
       "columns": [
        {
         "name": "index",
         "rawType": "int64",
         "type": "integer"
        },
        {
         "name": "Event",
         "rawType": "object",
         "type": "string"
        },
        {
         "name": "Avg_Sentiment",
         "rawType": "float64",
         "type": "float"
        },
        {
         "name": "Sentiment_Label",
         "rawType": "object",
         "type": "string"
        },
        {
         "name": "Positive_Tweets",
         "rawType": "int64",
         "type": "integer"
        },
        {
         "name": "Neutral_Tweets",
         "rawType": "int64",
         "type": "integer"
        },
        {
         "name": "Negative_Tweets",
         "rawType": "int64",
         "type": "integer"
        },
        {
         "name": "Total_Tweets",
         "rawType": "int64",
         "type": "integer"
        }
       ],
       "conversionMethod": "pd.DataFrame",
       "ref": "66f6c798-3f04-46ea-9794-f5a9d2c4ca11",
       "rows": [
        [
         "0",
         "ChatGPT Homework surge",
         "0.22035924382256622",
         "Positive",
         "1874",
         "933",
         "552",
         "3359"
        ],
        [
         "1",
         "AI Crypto Hype",
         "0.27714871278262815",
         "Positive",
         "2707",
         "1217",
         "543",
         "4467"
        ]
       ],
       "shape": {
        "columns": 7,
        "rows": 2
       }
      },
      "text/html": [
       "<div>\n",
       "<style scoped>\n",
       "    .dataframe tbody tr th:only-of-type {\n",
       "        vertical-align: middle;\n",
       "    }\n",
       "\n",
       "    .dataframe tbody tr th {\n",
       "        vertical-align: top;\n",
       "    }\n",
       "\n",
       "    .dataframe thead th {\n",
       "        text-align: right;\n",
       "    }\n",
       "</style>\n",
       "<table border=\"1\" class=\"dataframe\">\n",
       "  <thead>\n",
       "    <tr style=\"text-align: right;\">\n",
       "      <th></th>\n",
       "      <th>Event</th>\n",
       "      <th>Avg_Sentiment</th>\n",
       "      <th>Sentiment_Label</th>\n",
       "      <th>Positive_Tweets</th>\n",
       "      <th>Neutral_Tweets</th>\n",
       "      <th>Negative_Tweets</th>\n",
       "      <th>Total_Tweets</th>\n",
       "    </tr>\n",
       "  </thead>\n",
       "  <tbody>\n",
       "    <tr>\n",
       "      <th>0</th>\n",
       "      <td>ChatGPT Homework surge</td>\n",
       "      <td>0.220359</td>\n",
       "      <td>Positive</td>\n",
       "      <td>1874</td>\n",
       "      <td>933</td>\n",
       "      <td>552</td>\n",
       "      <td>3359</td>\n",
       "    </tr>\n",
       "    <tr>\n",
       "      <th>1</th>\n",
       "      <td>AI Crypto Hype</td>\n",
       "      <td>0.277149</td>\n",
       "      <td>Positive</td>\n",
       "      <td>2707</td>\n",
       "      <td>1217</td>\n",
       "      <td>543</td>\n",
       "      <td>4467</td>\n",
       "    </tr>\n",
       "  </tbody>\n",
       "</table>\n",
       "</div>"
      ],
      "text/plain": [
       "                    Event  Avg_Sentiment Sentiment_Label  Positive_Tweets  \\\n",
       "0  ChatGPT Homework surge       0.220359        Positive             1874   \n",
       "1          AI Crypto Hype       0.277149        Positive             2707   \n",
       "\n",
       "   Neutral_Tweets  Negative_Tweets  Total_Tweets  \n",
       "0             933              552          3359  \n",
       "1            1217              543          4467  "
      ]
     },
     "execution_count": 137,
     "metadata": {},
     "output_type": "execute_result"
    }
   ],
   "source": [
    "result_df = pd.DataFrame(result)\n",
    "result_df"
   ]
  },
  {
   "cell_type": "markdown",
   "id": "45bc103d",
   "metadata": {},
   "source": [
    "--------------"
   ]
  },
  {
   "cell_type": "markdown",
   "id": "08136931",
   "metadata": {},
   "source": [
    "Temporal analysis Analysis"
   ]
  },
  {
   "cell_type": "markdown",
   "id": "3ab143b6",
   "metadata": {},
   "source": [
    "Collect tweets upon days & weeks"
   ]
  },
  {
   "cell_type": "code",
   "execution_count": 149,
   "id": "9f3bfb16",
   "metadata": {},
   "outputs": [],
   "source": [
    "filtered_df = df[df['created_at'] >= '2025-02-15']"
   ]
  },
  {
   "cell_type": "code",
   "execution_count": 154,
   "id": "b62d3533",
   "metadata": {},
   "outputs": [
    {
     "data": {
      "application/vnd.microsoft.datawrangler.viewer.v0+json": {
       "columns": [
        {
         "name": "created_at",
         "rawType": "datetime64[ns]",
         "type": "datetime"
        },
        {
         "name": "Tweet",
         "rawType": "int64",
         "type": "integer"
        },
        {
         "name": "vader_score",
         "rawType": "float64",
         "type": "float"
        }
       ],
       "conversionMethod": "pd.DataFrame",
       "ref": "86ee0966-e1ff-48c0-81a1-dd3b8f2aaead",
       "rows": [
        [
         "2025-02-15 00:00:00",
         "3440",
         "0.2050293023255814"
        ],
        [
         "2025-02-16 00:00:00",
         "5041",
         "0.20897760365006945"
        ],
        [
         "2025-02-17 00:00:00",
         "5162",
         "0.20513421154591244"
        ],
        [
         "2025-02-18 00:00:00",
         "3569",
         "0.21538296441580276"
        ],
        [
         "2025-02-19 00:00:00",
         "3638",
         "0.2233351017042331"
        ]
       ],
       "shape": {
        "columns": 2,
        "rows": 5
       }
      },
      "text/html": [
       "<div>\n",
       "<style scoped>\n",
       "    .dataframe tbody tr th:only-of-type {\n",
       "        vertical-align: middle;\n",
       "    }\n",
       "\n",
       "    .dataframe tbody tr th {\n",
       "        vertical-align: top;\n",
       "    }\n",
       "\n",
       "    .dataframe thead th {\n",
       "        text-align: right;\n",
       "    }\n",
       "</style>\n",
       "<table border=\"1\" class=\"dataframe\">\n",
       "  <thead>\n",
       "    <tr style=\"text-align: right;\">\n",
       "      <th></th>\n",
       "      <th>Tweet</th>\n",
       "      <th>vader_score</th>\n",
       "    </tr>\n",
       "    <tr>\n",
       "      <th>created_at</th>\n",
       "      <th></th>\n",
       "      <th></th>\n",
       "    </tr>\n",
       "  </thead>\n",
       "  <tbody>\n",
       "    <tr>\n",
       "      <th>2025-02-15</th>\n",
       "      <td>3440</td>\n",
       "      <td>0.205029</td>\n",
       "    </tr>\n",
       "    <tr>\n",
       "      <th>2025-02-16</th>\n",
       "      <td>5041</td>\n",
       "      <td>0.208978</td>\n",
       "    </tr>\n",
       "    <tr>\n",
       "      <th>2025-02-17</th>\n",
       "      <td>5162</td>\n",
       "      <td>0.205134</td>\n",
       "    </tr>\n",
       "    <tr>\n",
       "      <th>2025-02-18</th>\n",
       "      <td>3569</td>\n",
       "      <td>0.215383</td>\n",
       "    </tr>\n",
       "    <tr>\n",
       "      <th>2025-02-19</th>\n",
       "      <td>3638</td>\n",
       "      <td>0.223335</td>\n",
       "    </tr>\n",
       "  </tbody>\n",
       "</table>\n",
       "</div>"
      ],
      "text/plain": [
       "            Tweet  vader_score\n",
       "created_at                    \n",
       "2025-02-15   3440     0.205029\n",
       "2025-02-16   5041     0.208978\n",
       "2025-02-17   5162     0.205134\n",
       "2025-02-18   3569     0.215383\n",
       "2025-02-19   3638     0.223335"
      ]
     },
     "execution_count": 154,
     "metadata": {},
     "output_type": "execute_result"
    }
   ],
   "source": [
    "daily_tweets = filtered_df.groupby(pd.Grouper(key='created_at', freq='D')).agg({\n",
    "    'Tweet': 'count', # no tweets \n",
    "    'vader_score': 'mean'  # sentiment avg \n",
    "})\n",
    "daily_tweets.head()"
   ]
  },
  {
   "cell_type": "code",
   "execution_count": 155,
   "id": "89c785d5",
   "metadata": {},
   "outputs": [
    {
     "data": {
      "application/vnd.microsoft.datawrangler.viewer.v0+json": {
       "columns": [
        {
         "name": "created_at",
         "rawType": "datetime64[ns]",
         "type": "datetime"
        },
        {
         "name": "Tweet",
         "rawType": "int64",
         "type": "integer"
        },
        {
         "name": "vader_score",
         "rawType": "float64",
         "type": "float"
        }
       ],
       "conversionMethod": "pd.DataFrame",
       "ref": "3424f7db-d097-49c2-8941-6102cef9aa0f",
       "rows": [
        [
         "2025-02-17 00:00:00",
         "13643",
         "0.20652786777101811"
        ],
        [
         "2025-02-24 00:00:00",
         "29954",
         "0.22950441343393205"
        ],
        [
         "2025-03-03 00:00:00",
         "32124",
         "0.2644987081309924"
        ],
        [
         "2025-03-10 00:00:00",
         "32443",
         "0.2147894491878063"
        ],
        [
         "2025-03-17 00:00:00",
         "15499",
         "0.23352739531582684"
        ]
       ],
       "shape": {
        "columns": 2,
        "rows": 5
       }
      },
      "text/html": [
       "<div>\n",
       "<style scoped>\n",
       "    .dataframe tbody tr th:only-of-type {\n",
       "        vertical-align: middle;\n",
       "    }\n",
       "\n",
       "    .dataframe tbody tr th {\n",
       "        vertical-align: top;\n",
       "    }\n",
       "\n",
       "    .dataframe thead th {\n",
       "        text-align: right;\n",
       "    }\n",
       "</style>\n",
       "<table border=\"1\" class=\"dataframe\">\n",
       "  <thead>\n",
       "    <tr style=\"text-align: right;\">\n",
       "      <th></th>\n",
       "      <th>Tweet</th>\n",
       "      <th>vader_score</th>\n",
       "    </tr>\n",
       "    <tr>\n",
       "      <th>created_at</th>\n",
       "      <th></th>\n",
       "      <th></th>\n",
       "    </tr>\n",
       "  </thead>\n",
       "  <tbody>\n",
       "    <tr>\n",
       "      <th>2025-02-17</th>\n",
       "      <td>13643</td>\n",
       "      <td>0.206528</td>\n",
       "    </tr>\n",
       "    <tr>\n",
       "      <th>2025-02-24</th>\n",
       "      <td>29954</td>\n",
       "      <td>0.229504</td>\n",
       "    </tr>\n",
       "    <tr>\n",
       "      <th>2025-03-03</th>\n",
       "      <td>32124</td>\n",
       "      <td>0.264499</td>\n",
       "    </tr>\n",
       "    <tr>\n",
       "      <th>2025-03-10</th>\n",
       "      <td>32443</td>\n",
       "      <td>0.214789</td>\n",
       "    </tr>\n",
       "    <tr>\n",
       "      <th>2025-03-17</th>\n",
       "      <td>15499</td>\n",
       "      <td>0.233527</td>\n",
       "    </tr>\n",
       "  </tbody>\n",
       "</table>\n",
       "</div>"
      ],
      "text/plain": [
       "            Tweet  vader_score\n",
       "created_at                    \n",
       "2025-02-17  13643     0.206528\n",
       "2025-02-24  29954     0.229504\n",
       "2025-03-03  32124     0.264499\n",
       "2025-03-10  32443     0.214789\n",
       "2025-03-17  15499     0.233527"
      ]
     },
     "execution_count": 155,
     "metadata": {},
     "output_type": "execute_result"
    }
   ],
   "source": [
    "weekly_tweets = filtered_df.groupby(pd.Grouper(key='created_at', freq='W-MON')).agg({\n",
    "    'Tweet': 'count',          \n",
    "    'vader_score': 'mean'\n",
    "  })\n",
    "weekly_tweets.head()"
   ]
  },
  {
   "cell_type": "code",
   "execution_count": 152,
   "id": "c5653822",
   "metadata": {},
   "outputs": [
    {
     "data": {
      "image/png": "[encoded data removed]",
      "text/plain": [
       "<Figure size 2000x1000 with 1 Axes>"
      ]
     },
     "metadata": {},
     "output_type": "display_data"
    }
   ],
   "source": [
    "plt.figure(figsize=(20, 10))\n",
    "plt.plot(daily_tweets.index, daily_tweets['vader_score'], color='#264653', label='Daily Sentiment')\n",
    "plt.show()"
   ]
  },
  {
   "cell_type": "code",
   "execution_count": 153,
   "id": "d31a8c78",
   "metadata": {},
   "outputs": [
    {
     "data": {
      "image/png": "[encoded data removed]",
      "text/plain": [
       "<Figure size 2000x1000 with 1 Axes>"
      ]
     },
     "metadata": {},
     "output_type": "display_data"
    }
   ],
   "source": [
    "plt.figure(figsize=(20, 10))\n",
    "plt.plot(weekly_tweets.index, weekly_tweets['vader_score'], color='#264653', label='Daily Sentiment')\n",
    "plt.show()"
   ]
  }
 ],
 "metadata": {
  "kernelspec": {
   "display_name": "base",
   "language": "python",
   "name": "python3"
  },
  "language_info": {
   "codemirror_mode": {
    "name": "ipython",
    "version": 3
   },
   "file_extension": ".py",
   "mimetype": "text/x-python",
   "name": "python",
   "nbconvert_exporter": "python",
   "pygments_lexer": "ipython3",
   "version": "3.12.7"
  }
 },
 "nbformat": 4,
 "nbformat_minor": 5
}
